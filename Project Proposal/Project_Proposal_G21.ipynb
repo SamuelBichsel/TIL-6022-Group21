{
 "cells": [
  {
   "cell_type": "markdown",
   "metadata": {},
   "source": [
    "# Proposal: Effect of French government regulations on national air traffic \n",
    "Group 21: \n",
    "Jake Berger (6146600),\n",
    "John Hünteler (6328504),\n",
    "Juliette Massot (6294693),\n",
    "Oskar Spelmeyer (6309925),\n",
    "Samuel Bichsel (6246253)\n",
    "\n",
    "# 1. Context and research questions\n",
    "In 2023, the French government stopped domestic flights for routes that can be reached in 2 hours 30 or less by alternative methods (trains). This only includes flights between Paris - Lyon / Bordeaux / Nantes. However, it should have included flights like Lyon-Marseille, which offers a train journey of only 1:40 hours. In this report, we will explore the effects of the partial flight ban in terms of CO2 emissions, as well as the shift in passengers between destinations. Furthermore, it will be explored if this ban can be implemented in other major EU countries like Germany. This leads to the following research question, which is supported by its sub-questions.\n",
    "\n",
    "**RQ:** To what extent did the French decree of May 2023 reduce domestic aviation compared to Germany?\n",
    "Based on data from Eurostat, using python to visualise the results. \n",
    "\n",
    "**Sub-RQs:**\n",
    "What is the effect on emissions related to aviation in France?\n",
    "What is the effect on passenger numbers at affected airports on the French national level?\n",
    "What could be the effect of this kind of regulation in another European country, especially focusing on Germany? \n",
    "\n",
    "# 2. Time scale and spatial/geographical scale\n",
    "The time scale is from the first quartile of 1993 until the first quartile of 2024, due to availability of Eurostat data. The spatial scale is continental France for all the research questions, and, in addition, Germany for the third sub-question.\n",
    "\n",
    "# 3. Data sources\n",
    "The data used is a mix of French and European sources, which will provide background information on the regulation, numbers about national aviation by countries and by airports, as well as air traffic in France since the 1980s. Data about emissions are gathered based on emissions per individual passenger in both France and Germany. The sources are listed below:\n",
    "\n",
    "**Data on the regulation:**\n",
    "\n",
    "Government of France. (2023). Décret n° 2023-385 du 22 mai 2023 précisant les conditions d’application de l’interdiction des services réguliers de transport aérien public de passagers intérieurs dont le trajet est également assuré par voie ferrée en moins de deux heures trente - Légifrance. Gouv.fr. https://www.legifrance.gouv.fr/jorf/id/JORFTEXT000047571222 \n",
    "\n",
    "Guitton-Boussion, J. (2023, May 24). Malgré sa promesse, le gouvernement continue d’autoriser les vols intérieurs courts. Reporterre, Le Média de l’Écologie - Indépendant et En Accès Libre; Reporterre. https://reporterre.net/Malgre-sa-promesse-le-gouvernement-continue-d-autoriser-les-vols-interieurs-court \n",
    "\n",
    "**National aviation by countries:**\n",
    "\n",
    "Eurostat. (2024b). National air passenger transport by reporting country. Europa.eu. https://ec.europa.eu/eurostat/databrowser/view/avia_panc/default/table?lang=en&category=avia.avia_pa.avia_pan \n",
    "\n",
    "**National aviation by airports:**\n",
    "\n",
    "Eurostat. (2024a). National air passenger transport by main airports. Europa.eu. https://ec.europa.eu/eurostat/databrowser/view/avia_pana/default/table?lang=en&category=avia.avia_pa.avia_pan \n",
    "\n",
    "**Passenger airline traffic in France from 1980 to 2022:**\n",
    "\n",
    "Insee. (2022). Fréquentation des lignes aériennes de voyageurs | Insee. Insee.fr. https://www.insee.fr/fr/statistiques/2016152#tableau-figure1 \n",
    "Ministère de la Transition écologique. (2024). Accueil | Chiffres clés transports 2024. Chiffres Clés Des Transports 2024. https://www.statistiques.developpement-durable.gouv.fr/edition-numerique/chiffres-cles-transports-2024/ \n",
    "\n",
    "**Emissions per passenger per domestic flight for France:**\n",
    "\n",
    "dgac. (2019). Calculateur d’émissions de gaz à effet de serre de l’aviation | ecocalc. Gouv.fr. https://eco-calculateur.aviation-civile.gouv.fr/ \n",
    "\n",
    "**Emissions per passenger per domestic flight for Germany:**\n",
    "\n",
    "Stiftung myclimate. (2024). myclimate. Myclimate.org. https://co2.myclimate.org/en/calculate_emissions \n",
    "\n"
   ]
  }
 ],
 "metadata": {
  "kernelspec": {
   "display_name": "TIL6022",
   "language": "python",
   "name": "python3"
  },
  "language_info": {
   "codemirror_mode": {
    "name": "ipython",
    "version": 3
   },
   "file_extension": ".py",
   "mimetype": "text/x-python",
   "name": "python",
   "nbconvert_exporter": "python",
   "pygments_lexer": "ipython3",
   "version": "3.12.5"
  }
 },
 "nbformat": 4,
 "nbformat_minor": 2
}
