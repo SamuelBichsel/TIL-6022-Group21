{
 "cells": [
  {
   "cell_type": "markdown",
   "metadata": {
    "id": "SX10W2yh2fMi"
   },
   "source": [
    "# TIL6022 Project - Group 21\n",
    "\n",
    "Members:\n",
    "- Jake Berger       [6146600]\n",
    "- Samuel Bichsel    [6246253]\n",
    "- Juliette Massot   [6294693]\n",
    "- John Hünteler     [6328504]\n",
    "- Oskar Spelmeyer   [6309925]"
   ]
  },
  {
   "cell_type": "markdown",
   "metadata": {
    "id": "cI-4-8A32fMq"
   },
   "source": [
    "# Research Objective\n",
    "The goal of this project is to visualize how the measures taken by the French government in May 2023 affected domestic flights and their emissions. In addition, it will be researched if such a measure will be taken in Germany too. For this, data from multiple sources were taken, Eurostat being the primary one for the programming data. With this data, graphs will be made to visualize passenger counts before and after the measure implementation, evaluate their associated carbon emisisons and compared to the results of Germany. To achieve this, the research will be conducted quantitatively."
   ]
  },
  {
   "cell_type": "markdown",
   "metadata": {
    "id": "IChxpMEn2fMs"
   },
   "source": [
    "**RQ: To what extent did the French decree of May 2023 reduce domestic aviation compared to Germany?**\n",
    "\n",
    "Based on data from Eurostat, using Python to visualise the results.\n",
    "\n",
    "**Sub-RQs:**\n",
    "\n",
    "\n",
    "*   What is the effect on emissions related to aviation in France? (RQ1.1)\n",
    "*   What is the effect on passenger numbers at affected airports on the French national level? (RQ1.2)\n",
    "*   What could be the effect of this kind of regulation in another European country, especially focusing on Germany? (RQ1.3)\n",
    "  \n",
    "\n",
    "\n",
    "\n"
   ]
  },
  {
   "cell_type": "markdown",
   "metadata": {
    "id": "iv3r-Ns42fMv"
   },
   "source": [
    "# Contribution statement\n",
    "**Everyone**:\n",
    "Preparing and specifying research questions\n",
    "\n",
    "**Jake Berger**:\n",
    "Extracting data from Eurostat, coding (contributing to blocks about french and german airport, data processing and plotting; also about emissions), preparing references in APA 7th, report organisation\n",
    "\n",
    "**Juliette Massot**: Background writing on the french legislation, coding (contributing to blocks about the french airports and french emissions), report writing\n",
    "\n",
    "**Oskar Spelmeyer**: Data research for german and french airports; with specific focus on research question 1.3, looking at short haul flights in germany and how these could be replaced by train travel. I contributed to the report writing.\n",
    "\n",
    "**Samuel Bichsel**: Coding (contributing to blocks about emission data, maps and journey times), data search for train and plane journeys, report writing\n",
    "\n",
    "**John Hünteler**: Gathering parts of French data, plotting German emissions graph, report writing"
   ]
  },
  {
   "cell_type": "markdown",
   "metadata": {
    "id": "etHJ5row2fMw"
   },
   "source": [
    "# Data Used"
   ]
  },
  {
   "cell_type": "markdown",
   "metadata": {
    "id": "QngaWGrV2fMx"
   },
   "source": [
    "National aviation by countries:\n",
    "Eurostat. (2024b). National air passenger transport by reporting country. Europa.eu. https://ec.europa.eu/eurostat/databrowser/view/avia_panc/default/table?lang=en&category=avia.avia_pa.avia_pan\n",
    "\n",
    "National aviation by airports:\n",
    "Eurostat. (2024a). National air passenger transport by main airports. Europa.eu.\n",
    "https://ec.europa.eu/eurostat/databrowser/view/avia_pana/default/table?lang=en&category=avia.avia_pa.avia_pan\n",
    "\n",
    "Passenger airline traffic in France from 1980 to 2022:\n",
    "Insee. (2022). Fréquentation des lignes aériennes de voyageurs | Insee. Insee.fr.\n",
    "https://www.insee.fr/fr/statistiques/2016152#tableau-figure1\n",
    "\n",
    "Emissions total from French Flights:\n",
    "Citepa (2024). Rapport Secten édition 2024.\n",
    "https://www.citepa.org/fr/secten/\n",
    "\n",
    "Emissions per passenger per domestic flight for France:\n",
    "dgac. (2019). Calculateur d’émissions de gaz à effet de serre de l’aviation | ecocalc. Gouv.fr.\n",
    "https://eco-calculateur.aviation-civile.gouv.fr/\n",
    "\n",
    "Emissions per passenger per domestic flight for Germany:\n",
    "Stiftung myclimate. (2024). myclimate. Myclimate.org.\n",
    "https://co2.myclimate.org/en/calculate_emissions\n",
    "\n",
    "\n",
    "\n"
   ]
  },
  {
   "cell_type": "markdown",
   "metadata": {
    "id": "mTZB6ITK2fMy"
   },
   "source": [
    "Introduction\n",
    "---\n",
    "\n"
   ]
  },
  {
   "cell_type": "markdown",
   "metadata": {
    "id": "qVkZUMtx2fMz"
   },
   "source": [
    "Growing concerns over climate change have led governments worldwide to find means to reduce their carbon emissions. In 2023, the French government took a significant step, banning domestic flights on routes where trains can reach the destination in 2 hours and 30 minutes or less.\n",
    "\n",
    "The French government decided to implement the ban on short domestic flights within its territory as planned by the Climate and Resilience law in August 2021. The law states: \"Public passenger air transport services are prohibited, based on Article 20 of Regulation (EC) No. 1008/2008 of the European Parliament and the Council of 24 September 2008, on all domestic air routes within French territory where the journey is also covered by the national rail network without transfer and by several daily connections with a duration of less than two and a half hours.” (Légifrance, 2021). The law was implemented in May 2023, more than 4 years after the proposition made by the citizen during the Convention for the Climate.\n",
    "\n",
    "The scope of this law is quite limited, as rail connections that can replace flights must ensure a journey of less than 2h30:\n",
    "- between train stations serving the same cities as the considered airports (when the busier of the two airports is directly served by a high-speed rail service, the station selected is the one serving that airport)\n",
    "- without a train transfer between these two stations;\n",
    "- several times a day, with sufficient frequency and convenient schedules;\n",
    "- allowing more than eight hours of presence at the destination during the day.\n",
    "\n",
    "As a result, only three routes across the entire country have been banned: those between Paris-Orly and Bordeaux, Nantes, and Lyon. The routes between Paris-Charles de Gaulle and Bordeaux and Nantes are excluded from the measure, as are those between Paris-Charles de Gaulle and Rennes and Lyon, as well as the Lyon-Marseille route, given the current rail offer. The map with those concerned flights can be seen below, with the green flights being those banned by the regulation and the red ones being the flights that have been excluded from the regulation despite falling into its scope.\n",
    "\n",
    "![image](figures/map_france.png)\n",
    "\n",
    "Figure 1. Routes affected by the French national aviation ban\n",
    "\n",
    "In fact, \"even if train journeys may offer travel times of less than 2h30, they do not allow sufficiently frequent access, early enough in the morning, to Paris-Charles de Gaulle Airport (or Lyon-Saint-Exupéry in the case of the Lyon-Marseille route), nor allow departures late enough in the evening,\" the ministry justifies (Durain, 2023).\n",
    "\n",
    "This report will investigate the environmental effects of this partial flight ban, focusing on the impact on CO2 emissions and the shifting patterns of passenger travel. Additionally, it will explore the feasibility of extending such measures to other major European Union countries, particularly Germany, where similar infrastructure and policy goals could lead to comparable outcomes. These considerations lead to the central research question of this study: What are the effects of the French flight ban on domestic air travel and CO2 emissions, and could a similar policy be applied in other major EU countries? To support this inquiry, several sub-questions will be addressed, ranging from the analysis of passenger shifts to the environmental benefits of alternative transport methods like rail."
   ]
  },
  {
   "cell_type": "markdown",
   "metadata": {
    "id": "5K014bkea66i"
   },
   "source": [
    "# Data Pipeline\n"
   ]
  },
  {
   "cell_type": "markdown",
   "metadata": {
    "id": "yu8g8TKJwpcV"
   },
   "source": [
    "In this section, the main results will be presented. This will be done by first showing the results of the programme for each sub research question respectively. After this, a general conclusion will be drawn by answering the main research question. In terms of timescale, the available data that was used was between 2002 and 2024. Therefore, this will be the scope in which the research will be conducted.\n",
    "\n",
    "**Sub-RQ 1.1: What is the effect on emissions related to aviation in France?**\n",
    "\n",
    "![image](figures/emissions_france.png)\n",
    "\n",
    "Figure 2. Total national aviation emissions in France per month (2002-2024)\n",
    "\n",
    "This figure shows that between 2002 and the start of the COVID restrictions in 2020, the total emission per month per passenger mostly stagnated on a year to year basis if we look at the whole phase, even slightly increasing from 2015 onwards right up until COVID.  In the two year after the COVID restrictions were lifted in France in May 2021, it looked as if the trend was to stay rather stagnant, with a slight tendency for decline. This decline could however be attributed to a downward correction from people travelling more in the summer of 2021 to make up for missed trips during COVID. The data on the first year of the law being in place hint at the law having some impact, with may and june of 2024 having 4.6 and 6.2% lower CO2 emissions (about 200 tons of CO2 less) compared to the previous year.  It must be noted that, due to the lack of monthly data on emissions, the yearly emission data was divided by the total number of passengers in that year and then multiplied by the monthly passengers, meaning that the assumption was made that the CO2 per passenger remained consistent throughout an entire year. This makes it impossible to make any comment on the monthly CO2 emissions indepentently from the number of passengers, though the approximation used should be good enough for the purpose of this report.\n",
    "\n",
    "**Sub-RQ 1.2: What is the effect on passenger numbers at affected airports on the French national level?**\n",
    "\n",
    "![image](figures/passengers_france.png)\n",
    "\n",
    "Figure 3. Total inland flight air passengers in France (2002-2024)\n",
    "\n",
    "This first figure shows the number of air passengers has been following the same pattern since 2002 until the COVID crisis. The number of passengers is maximal during summer and minimal in winter. This phenomenon can be attributed to the extended summer vacation period in France, during which residents typically travel to more distant destinations, while in winter, individuals are more likely to rely on personal vehicles for their journeys.\n",
    "Before the Covid, the number of passengers increased by 51 each month, which represents an increase of more than 600 passengers per year. After the Covid crisis, the number of passengers drastically increased: from 51 to 433 each month. This represents the capacity of at least two A320, which are currently the main airbus planes operating for regional flights. But, after the setting up of the regulation, given the current data, the number of passengers is decreasing: 1051 less passengers each month. It is important to notice that the value of the slope is high since only the available data only concerns a short period of time. Still, compared to the two other periods, the number of passengers is decreasing which shows that the regulation had at least some impact.\n",
    "\n",
    "![image](figures/passengers_french_airports.png)\n",
    "\n",
    "Figure 4. French national aviation passengers per airport per month (2002-2024)\n",
    "\n",
    "When looking at the individual french airports, we can see that they follow almost the same trend as the one explained for figure 1. Moreover, we can see that the regulation seems efficient since the decrease of the number of passengers is more important in all airports except for the port of Marseille which was not concerned by the measure. Still the slow decrease can illustrate the fact that other airports are getting prepared for the enlargement of this regulation in the coming years as initially planned by the Convention Citoyenne pour le climat.\n",
    "\n",
    "\n",
    "**Sub-RQ 1.3: What could be the effect of this kind of regulation in another European country, especially focusing on Germany?**\n",
    "\n",
    "Discussions have been underway for several years regarding the legislation in Germany relating to the reduction of short haul flights, defined as being of a distance up to 1000km. Data from Destatis in 2019 and 2020 states a split of just over 50% of flights leaving german airports to a destination considered short haul, many of which have distances easily achieveable with alternative means, mainly high speed rail travel. The split is seen in the bar chart below:\n",
    "\n",
    "![image](figures/flight_distances_germany.png)\n",
    "\n",
    "Figure 5. Flights in Germany split by distance\n",
    "\n",
    "The travel times between the 8 german cities with the busiest airports (Frankfurt, Munich, Berlin, Hamburg, Düsseldorf, Stuttgart, Cologne and Nürnberg) has been analysed, looking at the difference between the train time and the flight time. An important assumption of 3 hours has been added to the flight time to account for the travel time to and from the airport as well as the waiting time at the airport. The results of these travel time comparisons can be seen in the below figure.\n",
    "\n",
    "![image](figures/train_times_germany.png)\n",
    "\n",
    "Figure 6. Comparison of plane and train journey times in Germany\n",
    "\n",
    "A lot of the city pairs with distances shorter than 400 km  do not have any direct flights between them, though up to 400 km, there are a total of 5 connections that see plane travel when rail is a solid margin faster. The noticeable trend is that four of the five shortest journeys that still see plane travel all go to and from Frankfurt am Main. This can be explained by the fact that the Frankfurt airport is the biggest in the country and serves as the hub for various airlines, notably the German airline Lufthansa. Further up the chart, we can see the Munich - Stuttgart trip, conections to and from Hamburg, further Frankfurt connections to Hamburg and Berlin as well as the trip between Berlin and Munich are the only other lines where the train is slightly faster than the plane with the 3h assumption we used. We can draw a preliminary conclusion can be made that flights only start becoming time efficient for journeys over 500km for Germany.\n",
    "\n",
    "To illustrate, a graph of emissions caused by domestic flights in Germany is shown below. It can be seen that pre-covid the trend was slowly upwards, each year causing more and more pollution. However, this naturally dropped drastically during the covid lockdowns. Unlike France, the emissions and flight activity have not yet caught back up to Covid levels in Germany, and the levels are even stagnant since 2023 and the law passing in France, despite no similar measure having been introduced in Germany. Due to the small sample size it is hard to see a clear trend, but measures to avoid the return to the steady pre-Covid growth could still make sense in the long run.\n",
    "\n",
    "\n",
    "![image](figures/emissions_germany.png)\n",
    "\n",
    "Figure 7. Total national aviation emissions in Germany per month (2002-2024)\n",
    "\n",
    "Where could a similar law could be implemented in Germany? On journeys of under 500 km, or at least where the train travel time is faster than the flight journey time (including journey to and from airport as well as waiting times), it makes sense from a time perspective to heavily favour rail transport and decrease or remove the possibility for flying. Many of these short haul domestic flights are shuttles from the two hub airports (Frankfurt and Munich) where passengers have had a previous leg of the journey, flying to smaller more local airport, thus removing these flights wouldn't actually reduce travel time for the passengers. This can be seen on the map below, where the green lines represent flights that would fall into the French law cutoff of 2h30, and the orange ones lines that would be targeted by potential expansions of the law to include trips with train journeys of under 4 hours. As can be seen with the sharp incease in flight emissions post-covid however, the environmental impact of flying is stark, and must be combatted with alternative transport means.  \n",
    "\n",
    "![image](figures/map_germany.png)\n",
    "\n",
    "Figure 8. Proposal of routes for a national aviation ban in Germany\n",
    "\n",
    "**Main RQ: To what extent did the French decree of May 2023 reduce domestic aviation compared to Germany?**\n",
    "\n",
    "In France, the decree has been shown to slow down the uptake in domestic flights after the Covid pandemic. As a result, there are naturally less passengers and thus less emissions tied to this mode of transport. It remains complicated to analyze the results, since the Covid pandemic was a much stronger factor for reducing the amount of flights, both domestic and international. However, when comparing to a country without this decree, like Germany, it can be seen that the decree definitely has an effect. Especially when comparing the emission graphs, it can be seen that post-covid Germany has not yet recovered from the Covid dip unlike France, but it seems to be on trajectory to do so in the near future. However, it can be seen that the French emissions have stagnated since the implementation of the decree, therefore showing its effectiveness in keeping emissions relatively low compared to pre-covid levels. Through this comparison, the French decree can be seen as a relative success, preventing the emissions from going to pre-covid levels. There is however much more potential if this decree would be implemented more strictly in France, banning more flights for journeys between Lyon and Marseille. If this short flight ban was introduced in a wider scheme across the EU, the emissions would see a steeper decrease instead of the current stagnation."
   ]
  },
  {
   "cell_type": "markdown",
   "metadata": {
    "id": "2Dox3HlimykF"
   },
   "source": [
    "# Discussion"
   ]
  },
  {
   "cell_type": "markdown",
   "metadata": {
    "id": "bTO1syRTmykG"
   },
   "source": [
    "This report evaluated France's 2023 ban on short-haul flights where train alternatives under 2.5 hours exist, focusing on its impact on domestic aviation emissions and passenger patterns, and explores its feasibility in Germany.\n",
    "\n",
    "As for the key findings of the report, data from Eurostat and emissions calculators show slight decreases in French aviation emissions since the decree's implementation, with drops of 4.6–6.2% in emissions for May and June 2024 compared to the previous year. While the scope of the law is limited to only three routes to and from Paris, early data suggests the ban has influenced passenger numbers and emissions, with a seasonal passenger trend that peaks in summer and drops in winter.\n",
    "\n",
    "At a per-airport level, French airports affected by the ban report declining passenger counts, with an exception at Marseille, where the law does not yet apply. This implies both an immediate impact and potential industry adaptation to broader restrictions.\n",
    "\n",
    "In the German context, Germany’s infrastructure could support a similar policy due to its great high-speed rail network. Analysis shows that while some German routes could shift to rail, only a few meet the French law’s strict criteria. Emissions data reveals German emissions have not yet returned to the pre-pandemic level but is on path of doing so in the future, contrasting with the stagnation that France experienced after the decree, suggesting that Germany might benefit from similar regulations to lower emissions growth.\n",
    "\n",
    "To conclude, the French decree effectively stabilized emissions and reduced domestic flight numbers, demonstrating potential for further expansion. Germany could adopt similar measures with adjustments for infrastructure and travel habits, likely achieving emissions reductions. Future research could assess broader impacts on cost, satisfaction, and policy efficiency across Europe to refine and possibly expand such regulations."
   ]
  },
  {
   "cell_type": "markdown",
   "metadata": {
    "id": "D_WR6pxtmykH"
   },
   "source": [
    "# References"
   ]
  },
  {
   "cell_type": "markdown",
   "metadata": {
    "id": "j7WNjxhKmykI"
   },
   "source": [
    "Citepa (2024). Rapport Secten édition 2024.\n",
    "https://www.citepa.org/fr/secten/\n",
    "\n",
    "dgac. (2019). Calculateur d’émissions de gaz à effet de serre de l’aviation | ecocalc. Gouv.fr.\n",
    "https://eco-calculateur.aviation-civile.gouv.fr/\n",
    "\n",
    "Durain, A. (2023, May 9). Le rail contre l’avion, ou comment un décret peut stériliser une loi. La Grande Conversation. https://www.lagrandeconversation.com/economie/le-rail-contre-lavion-ou-comment-un-decret-peut-steriliser-une-loi/\n",
    "\n",
    "Eurostat. (2024b). National air passenger transport by reporting country. Europa.eu. https://ec.europa.eu/eurostat/databrowser/view/avia_panc/default/table?lang=en&category=avia.avia_pa.avia_pan\n",
    "\n",
    "Eurostat. (2024a). National air passenger transport by main airports. Europa.eu.\n",
    "https://ec.europa.eu/eurostat/databrowser/view/avia_pana/default/table?lang=en&category=avia.avia_pa.avia_pan\n",
    "\n",
    "Government of France (2022). Feuille de route de décarbonisation de l’aérien\n",
    "https://www.ecologie.gouv.fr/sites/default/files/documents/Proposition%20de%20feuille%20de%20route%20d%C3%A9carbonation%20transport%20a%C3%A9rien.pdf  \n",
    "\n",
    "Insee. (2022). Fréquentation des lignes aériennes de voyageurs | Insee. Insee.fr.\n",
    "https://www.insee.fr/fr/statistiques/2016152#tableau-figure1\n",
    "\n",
    "Ministère de la Transition écologique. (2024). Accueil | Chiffres clés transports 2024. Chiffres Clés Des Transports 2024.\n",
    "https://www.statistiques.developpement-durable.gouv.fr/edition-numerique/chiffres-cles-transports-2024/\n",
    "\n",
    "Ministry of Ecological Transition. (2022). Émissions de gaz à effet de serre du transport | Chiffres clés transports 2022. Chiffres Clés Transports 2022. https://www.statistiques.developpement-durable.gouv.fr/edition-numerique/chiffres-cles-transports-2022/19-emissions-de-gaz-a-effet\n",
    "\n",
    "Peltier, J. (2022, June 15). Les Français, les voyages et l’avion - Fondation Jean-Jaurès. Fondation Jean-Jaurès. https://www.jean-jaures.org/publication/les-francais-les-voyages-et-lavion/\n",
    "\n",
    "Légifrance. (2021). Article 145 - LOI n° 2021-1104 du 22 août 2021 portant lutte contre le dérèglement climatique et renforcement de la résilience face à ses effets (1) - Légifrance. Gouv.fr. https://www.legifrance.gouv.fr/jorf/article_jo/JORFARTI000043957217\n",
    "\n",
    "Stiftung myclimate. (2024). myclimate. Myclimate.org.\n",
    "https://co2.myclimate.org/en/calculate_emissions"
   ]
  }
 ],
 "metadata": {
  "colab": {
   "provenance": []
  },
  "kernelspec": {
   "display_name": "TIL6022",
   "language": "python",
   "name": "python3"
  },
  "language_info": {
   "name": "python",
   "version": "3.12.5"
  },
  "orig_nbformat": 4
 },
 "nbformat": 4,
 "nbformat_minor": 0
}
